{
 "cells": [
  {
   "cell_type": "code",
   "execution_count": 8,
   "id": "a53ddafa",
   "metadata": {},
   "outputs": [
    {
     "name": "stdout",
     "output_type": "stream",
     "text": [
      "Enter the number of objects3\n",
      "Enter 3 weights consecutively20 25 27\n",
      "Enter 3 profits consecutively90 35 70\n",
      "o: [1, 2, 3]\n",
      "p [90, 35, 70]\n",
      "w [20, 25, 27]\n",
      "p/w [4.5, 1.4, 2.5925925925925926]\n",
      "o: [1, 2, 3]\n",
      "p [90, 70, 35]\n",
      "w [20, 27, 25]\n",
      "p/w [4.5, 2.5925925925925926, 1.4]\n",
      "Enter the weight limit of the bag100\n",
      "Profit= 195\n"
     ]
    }
   ],
   "source": [
    "def knapsack():\n",
    "    n=int(input(\"Enter the number of objects\"))\n",
    "    w=list(map(int,input(f\"Enter {n} weights consecutively\").split()))\n",
    "    p=list(map(int,input(\"Enter {0} profits consecutively\".format(n)).split()))\n",
    "    o=[i for i in range(1,n+1)]\n",
    "    pw=[]\n",
    "    w1=[]\n",
    "    p1=[]\n",
    "    pw1=[]\n",
    "    for i in range(0,n):\n",
    "        pw.append(p[i]/w[i])\n",
    "    print(\"o:\",o)\n",
    "    print(\"p\",p)\n",
    "    print(\"w\",w)\n",
    "    print(\"p/w\",pw)\n",
    "    \n",
    "    for i in range(0,n):\n",
    "        a=pw.index(max(pw))\n",
    "        pw1.append(pw[a])\n",
    "        p1.append(p[a])\n",
    "        w1.append(w[a])\n",
    "        del pw[a]\n",
    "        del w[a]\n",
    "        del p[a]\n",
    "    print(\"o:\",o)\n",
    "    print(\"p\",p1)\n",
    "    print(\"w\",w1)\n",
    "    print(\"p/w\",pw1)\n",
    "    \n",
    "    pro=0\n",
    "    m=int(input(\"Enter the weight limit of the bag\"))\n",
    "    \n",
    "    for i in range(n):\n",
    "        if w1[i]<=m:\n",
    "            m=m-w1[i]\n",
    "            pro=pro+p1[i]\n",
    "        elif m<w1[i] and m>0:\n",
    "            pro=pro+((m/w1[i])*p1[i])\n",
    "            m=m-(m/w1[i])*w1[i]\n",
    "        else:\n",
    "            break\n",
    "    print(\"Profit=\",pro)    \n",
    "        \n",
    "knapsack()   \n",
    "        "
   ]
  },
  {
   "cell_type": "code",
   "execution_count": null,
   "id": "387546be",
   "metadata": {},
   "outputs": [],
   "source": []
  }
 ],
 "metadata": {
  "kernelspec": {
   "display_name": "Python 3 (ipykernel)",
   "language": "python",
   "name": "python3"
  },
  "language_info": {
   "codemirror_mode": {
    "name": "ipython",
    "version": 3
   },
   "file_extension": ".py",
   "mimetype": "text/x-python",
   "name": "python",
   "nbconvert_exporter": "python",
   "pygments_lexer": "ipython3",
   "version": "3.9.13"
  }
 },
 "nbformat": 4,
 "nbformat_minor": 5
}
