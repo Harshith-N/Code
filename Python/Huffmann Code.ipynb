{
 "cells": [
  {
   "cell_type": "code",
   "execution_count": 1,
   "id": "6653b5ad",
   "metadata": {},
   "outputs": [
    {
     "name": "stdout",
     "output_type": "stream",
     "text": [
      "Input text: hello world\n",
      "Encoded text: 11101111101011000000111001010011\n",
      "Decoded text: hello world\n"
     ]
    }
   ],
   "source": [
    "from collections import Counter\n",
    "\n",
    "class Node:\n",
    "    def __init__(self, char, freq, left=None, right=None):\n",
    "        self.char, self.freq, self.left, self.right = char, freq, left, right\n",
    "\n",
    "    def __lt__(self, other):\n",
    "        return self.freq < other.freq\n",
    "\n",
    "def build_huffman_tree(text):\n",
    "    freq_dict = dict(Counter(text))\n",
    "    nodes = [Node(char, freq) for char, freq in freq_dict.items()]\n",
    "\n",
    "    while len(nodes) > 1:\n",
    "        nodes.sort(key=lambda x: x.freq)\n",
    "        left, right = nodes.pop(0), nodes.pop(0)\n",
    "        nodes.append(Node(None, left.freq + right.freq, left, right))\n",
    "\n",
    "    return nodes[0]\n",
    "\n",
    "def build_huffman_codes(node, code=\"\", result=None):\n",
    "    if result is None:\n",
    "        result = {}\n",
    "\n",
    "    if node.char is not None:\n",
    "        result[node.char] = code\n",
    "\n",
    "    if node.left:\n",
    "        build_huffman_codes(node.left, code + \"0\", result)\n",
    "    if node.right:\n",
    "        build_huffman_codes(node.right, code + \"1\", result)\n",
    "\n",
    "    return result\n",
    "\n",
    "def huffman_encode(text):\n",
    "    huffman_tree = build_huffman_tree(text)\n",
    "    huffman_codes = build_huffman_codes(huffman_tree)\n",
    "    return \"\".join(huffman_codes[char] for char in text), huffman_tree\n",
    "\n",
    "def huffman_decode(encoded_text, huffman_tree):\n",
    "    decoded_text, current_node = \"\", huffman_tree\n",
    "\n",
    "    for bit in encoded_text:\n",
    "        current_node = current_node.left if bit == \"0\" else current_node.right\n",
    "\n",
    "        if current_node.char is not None:\n",
    "            decoded_text += current_node.char\n",
    "            current_node = huffman_tree\n",
    "\n",
    "    return decoded_text\n",
    "\n",
    "if __name__ == \"__main__\":\n",
    "    input_text = \"hello world\"\n",
    "    encoded_text, huffman_tree = huffman_encode(input_text)\n",
    "    decoded_text = huffman_decode(encoded_text, huffman_tree)\n",
    "\n",
    "    print(\"Input text:\", input_text)\n",
    "    print(\"Encoded text:\", encoded_text)\n",
    "    print(\"Decoded text:\", decoded_text)\n"
   ]
  },
  {
   "cell_type": "code",
   "execution_count": null,
   "id": "2b1db8ed",
   "metadata": {},
   "outputs": [],
   "source": []
  }
 ],
 "metadata": {
  "kernelspec": {
   "display_name": "Python 3 (ipykernel)",
   "language": "python",
   "name": "python3"
  },
  "language_info": {
   "codemirror_mode": {
    "name": "ipython",
    "version": 3
   },
   "file_extension": ".py",
   "mimetype": "text/x-python",
   "name": "python",
   "nbconvert_exporter": "python",
   "pygments_lexer": "ipython3",
   "version": "3.9.13"
  }
 },
 "nbformat": 4,
 "nbformat_minor": 5
}
